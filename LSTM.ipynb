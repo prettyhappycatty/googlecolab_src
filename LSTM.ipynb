{
  "nbformat": 4,
  "nbformat_minor": 0,
  "metadata": {
    "colab": {
      "name": "LSTM.ipynb",
      "provenance": [],
      "collapsed_sections": [],
      "toc_visible": true,
      "mount_file_id": "1zvSdaggH6iY7B7lxDQlUzwjAjPzHcbTn",
      "authorship_tag": "ABX9TyOJz6Atc5HfbewPkUTOtptB"
    },
    "kernelspec": {
      "name": "python3",
      "display_name": "Python 3"
    }
  },
  "cells": [
    {
      "cell_type": "markdown",
      "metadata": {
        "id": "NeVcJHx1za9R"
      },
      "source": [
        "# pytorch-lightning のインストール"
      ]
    },
    {
      "cell_type": "code",
      "metadata": {
        "colab": {
          "base_uri": "https://localhost:8080/"
        },
        "id": "ALF31x1wR5BE",
        "outputId": "49c70efb-4168-4e4d-d219-988116db054a"
      },
      "source": [
        "% pip install --upgrade pip\n",
        "% pip install -U pytorch-lightning==0.6.0"
      ],
      "execution_count": null,
      "outputs": [
        {
          "output_type": "stream",
          "text": [
            "Collecting pip\n",
            "\u001b[?25l  Downloading https://files.pythonhosted.org/packages/54/eb/4a3642e971f404d69d4f6fa3885559d67562801b99d7592487f1ecc4e017/pip-20.3.3-py2.py3-none-any.whl (1.5MB)\n",
            "\r\u001b[K     |▏                               | 10kB 18.6MB/s eta 0:00:01\r\u001b[K     |▍                               | 20kB 24.9MB/s eta 0:00:01\r\u001b[K     |▋                               | 30kB 24.1MB/s eta 0:00:01\r\u001b[K     |▉                               | 40kB 16.7MB/s eta 0:00:01\r\u001b[K     |█                               | 51kB 15.7MB/s eta 0:00:01\r\u001b[K     |█▎                              | 61kB 12.0MB/s eta 0:00:01\r\u001b[K     |█▌                              | 71kB 12.3MB/s eta 0:00:01\r\u001b[K     |█▊                              | 81kB 12.3MB/s eta 0:00:01\r\u001b[K     |██                              | 92kB 12.0MB/s eta 0:00:01\r\u001b[K     |██▏                             | 102kB 11.7MB/s eta 0:00:01\r\u001b[K     |██▍                             | 112kB 11.7MB/s eta 0:00:01\r\u001b[K     |██▋                             | 122kB 11.7MB/s eta 0:00:01\r\u001b[K     |██▉                             | 133kB 11.7MB/s eta 0:00:01\r\u001b[K     |███                             | 143kB 11.7MB/s eta 0:00:01\r\u001b[K     |███▎                            | 153kB 11.7MB/s eta 0:00:01\r\u001b[K     |███▌                            | 163kB 11.7MB/s eta 0:00:01\r\u001b[K     |███▋                            | 174kB 11.7MB/s eta 0:00:01\r\u001b[K     |███▉                            | 184kB 11.7MB/s eta 0:00:01\r\u001b[K     |████                            | 194kB 11.7MB/s eta 0:00:01\r\u001b[K     |████▎                           | 204kB 11.7MB/s eta 0:00:01\r\u001b[K     |████▌                           | 215kB 11.7MB/s eta 0:00:01\r\u001b[K     |████▊                           | 225kB 11.7MB/s eta 0:00:01\r\u001b[K     |█████                           | 235kB 11.7MB/s eta 0:00:01\r\u001b[K     |█████▏                          | 245kB 11.7MB/s eta 0:00:01\r\u001b[K     |█████▍                          | 256kB 11.7MB/s eta 0:00:01\r\u001b[K     |█████▋                          | 266kB 11.7MB/s eta 0:00:01\r\u001b[K     |█████▉                          | 276kB 11.7MB/s eta 0:00:01\r\u001b[K     |██████                          | 286kB 11.7MB/s eta 0:00:01\r\u001b[K     |██████▎                         | 296kB 11.7MB/s eta 0:00:01\r\u001b[K     |██████▌                         | 307kB 11.7MB/s eta 0:00:01\r\u001b[K     |██████▊                         | 317kB 11.7MB/s eta 0:00:01\r\u001b[K     |███████                         | 327kB 11.7MB/s eta 0:00:01\r\u001b[K     |███████                         | 337kB 11.7MB/s eta 0:00:01\r\u001b[K     |███████▎                        | 348kB 11.7MB/s eta 0:00:01\r\u001b[K     |███████▌                        | 358kB 11.7MB/s eta 0:00:01\r\u001b[K     |███████▊                        | 368kB 11.7MB/s eta 0:00:01\r\u001b[K     |████████                        | 378kB 11.7MB/s eta 0:00:01\r\u001b[K     |████████▏                       | 389kB 11.7MB/s eta 0:00:01\r\u001b[K     |████████▍                       | 399kB 11.7MB/s eta 0:00:01\r\u001b[K     |████████▋                       | 409kB 11.7MB/s eta 0:00:01\r\u001b[K     |████████▉                       | 419kB 11.7MB/s eta 0:00:01\r\u001b[K     |█████████                       | 430kB 11.7MB/s eta 0:00:01\r\u001b[K     |█████████▎                      | 440kB 11.7MB/s eta 0:00:01\r\u001b[K     |█████████▌                      | 450kB 11.7MB/s eta 0:00:01\r\u001b[K     |█████████▊                      | 460kB 11.7MB/s eta 0:00:01\r\u001b[K     |██████████                      | 471kB 11.7MB/s eta 0:00:01\r\u001b[K     |██████████▏                     | 481kB 11.7MB/s eta 0:00:01\r\u001b[K     |██████████▍                     | 491kB 11.7MB/s eta 0:00:01\r\u001b[K     |██████████▋                     | 501kB 11.7MB/s eta 0:00:01\r\u001b[K     |██████████▊                     | 512kB 11.7MB/s eta 0:00:01\r\u001b[K     |███████████                     | 522kB 11.7MB/s eta 0:00:01\r\u001b[K     |███████████▏                    | 532kB 11.7MB/s eta 0:00:01\r\u001b[K     |███████████▍                    | 542kB 11.7MB/s eta 0:00:01\r\u001b[K     |███████████▋                    | 552kB 11.7MB/s eta 0:00:01\r\u001b[K     |███████████▉                    | 563kB 11.7MB/s eta 0:00:01\r\u001b[K     |████████████                    | 573kB 11.7MB/s eta 0:00:01\r\u001b[K     |████████████▎                   | 583kB 11.7MB/s eta 0:00:01\r\u001b[K     |████████████▌                   | 593kB 11.7MB/s eta 0:00:01\r\u001b[K     |████████████▊                   | 604kB 11.7MB/s eta 0:00:01\r\u001b[K     |█████████████                   | 614kB 11.7MB/s eta 0:00:01\r\u001b[K     |█████████████▏                  | 624kB 11.7MB/s eta 0:00:01\r\u001b[K     |█████████████▍                  | 634kB 11.7MB/s eta 0:00:01\r\u001b[K     |█████████████▋                  | 645kB 11.7MB/s eta 0:00:01\r\u001b[K     |█████████████▉                  | 655kB 11.7MB/s eta 0:00:01\r\u001b[K     |██████████████                  | 665kB 11.7MB/s eta 0:00:01\r\u001b[K     |██████████████▏                 | 675kB 11.7MB/s eta 0:00:01\r\u001b[K     |██████████████▍                 | 686kB 11.7MB/s eta 0:00:01\r\u001b[K     |██████████████▋                 | 696kB 11.7MB/s eta 0:00:01\r\u001b[K     |██████████████▉                 | 706kB 11.7MB/s eta 0:00:01\r\u001b[K     |███████████████                 | 716kB 11.7MB/s eta 0:00:01\r\u001b[K     |███████████████▎                | 727kB 11.7MB/s eta 0:00:01\r\u001b[K     |███████████████▌                | 737kB 11.7MB/s eta 0:00:01\r\u001b[K     |███████████████▊                | 747kB 11.7MB/s eta 0:00:01\r\u001b[K     |████████████████                | 757kB 11.7MB/s eta 0:00:01\r\u001b[K     |████████████████▏               | 768kB 11.7MB/s eta 0:00:01\r\u001b[K     |████████████████▍               | 778kB 11.7MB/s eta 0:00:01\r\u001b[K     |████████████████▋               | 788kB 11.7MB/s eta 0:00:01\r\u001b[K     |████████████████▉               | 798kB 11.7MB/s eta 0:00:01\r\u001b[K     |█████████████████               | 808kB 11.7MB/s eta 0:00:01\r\u001b[K     |█████████████████▎              | 819kB 11.7MB/s eta 0:00:01\r\u001b[K     |█████████████████▌              | 829kB 11.7MB/s eta 0:00:01\r\u001b[K     |█████████████████▊              | 839kB 11.7MB/s eta 0:00:01\r\u001b[K     |█████████████████▉              | 849kB 11.7MB/s eta 0:00:01\r\u001b[K     |██████████████████              | 860kB 11.7MB/s eta 0:00:01\r\u001b[K     |██████████████████▎             | 870kB 11.7MB/s eta 0:00:01\r\u001b[K     |██████████████████▌             | 880kB 11.7MB/s eta 0:00:01\r\u001b[K     |██████████████████▊             | 890kB 11.7MB/s eta 0:00:01\r\u001b[K     |███████████████████             | 901kB 11.7MB/s eta 0:00:01\r\u001b[K     |███████████████████▏            | 911kB 11.7MB/s eta 0:00:01\r\u001b[K     |███████████████████▍            | 921kB 11.7MB/s eta 0:00:01\r\u001b[K     |███████████████████▋            | 931kB 11.7MB/s eta 0:00:01\r\u001b[K     |███████████████████▉            | 942kB 11.7MB/s eta 0:00:01\r\u001b[K     |████████████████████            | 952kB 11.7MB/s eta 0:00:01\r\u001b[K     |████████████████████▎           | 962kB 11.7MB/s eta 0:00:01\r\u001b[K     |████████████████████▌           | 972kB 11.7MB/s eta 0:00:01\r\u001b[K     |████████████████████▊           | 983kB 11.7MB/s eta 0:00:01\r\u001b[K     |█████████████████████           | 993kB 11.7MB/s eta 0:00:01\r\u001b[K     |█████████████████████▏          | 1.0MB 11.7MB/s eta 0:00:01\r\u001b[K     |█████████████████████▎          | 1.0MB 11.7MB/s eta 0:00:01\r\u001b[K     |█████████████████████▌          | 1.0MB 11.7MB/s eta 0:00:01\r\u001b[K     |█████████████████████▊          | 1.0MB 11.7MB/s eta 0:00:01\r\u001b[K     |██████████████████████          | 1.0MB 11.7MB/s eta 0:00:01\r\u001b[K     |██████████████████████▏         | 1.1MB 11.7MB/s eta 0:00:01\r\u001b[K     |██████████████████████▍         | 1.1MB 11.7MB/s eta 0:00:01\r\u001b[K     |██████████████████████▋         | 1.1MB 11.7MB/s eta 0:00:01\r\u001b[K     |██████████████████████▉         | 1.1MB 11.7MB/s eta 0:00:01\r\u001b[K     |███████████████████████         | 1.1MB 11.7MB/s eta 0:00:01\r\u001b[K     |███████████████████████▎        | 1.1MB 11.7MB/s eta 0:00:01\r\u001b[K     |███████████████████████▌        | 1.1MB 11.7MB/s eta 0:00:01\r\u001b[K     |███████████████████████▊        | 1.1MB 11.7MB/s eta 0:00:01\r\u001b[K     |████████████████████████        | 1.1MB 11.7MB/s eta 0:00:01\r\u001b[K     |████████████████████████▏       | 1.1MB 11.7MB/s eta 0:00:01\r\u001b[K     |████████████████████████▍       | 1.2MB 11.7MB/s eta 0:00:01\r\u001b[K     |████████████████████████▋       | 1.2MB 11.7MB/s eta 0:00:01\r\u001b[K     |████████████████████████▊       | 1.2MB 11.7MB/s eta 0:00:01\r\u001b[K     |█████████████████████████       | 1.2MB 11.7MB/s eta 0:00:01\r\u001b[K     |█████████████████████████▏      | 1.2MB 11.7MB/s eta 0:00:01\r\u001b[K     |█████████████████████████▍      | 1.2MB 11.7MB/s eta 0:00:01\r\u001b[K     |█████████████████████████▋      | 1.2MB 11.7MB/s eta 0:00:01\r\u001b[K     |█████████████████████████▉      | 1.2MB 11.7MB/s eta 0:00:01\r\u001b[K     |██████████████████████████      | 1.2MB 11.7MB/s eta 0:00:01\r\u001b[K     |██████████████████████████▎     | 1.2MB 11.7MB/s eta 0:00:01\r\u001b[K     |██████████████████████████▌     | 1.3MB 11.7MB/s eta 0:00:01\r\u001b[K     |██████████████████████████▊     | 1.3MB 11.7MB/s eta 0:00:01\r\u001b[K     |███████████████████████████     | 1.3MB 11.7MB/s eta 0:00:01\r\u001b[K     |███████████████████████████▏    | 1.3MB 11.7MB/s eta 0:00:01\r\u001b[K     |███████████████████████████▍    | 1.3MB 11.7MB/s eta 0:00:01\r\u001b[K     |███████████████████████████▋    | 1.3MB 11.7MB/s eta 0:00:01\r\u001b[K     |███████████████████████████▉    | 1.3MB 11.7MB/s eta 0:00:01\r\u001b[K     |████████████████████████████    | 1.3MB 11.7MB/s eta 0:00:01\r\u001b[K     |████████████████████████████▎   | 1.3MB 11.7MB/s eta 0:00:01\r\u001b[K     |████████████████████████████▍   | 1.4MB 11.7MB/s eta 0:00:01\r\u001b[K     |████████████████████████████▋   | 1.4MB 11.7MB/s eta 0:00:01\r\u001b[K     |████████████████████████████▉   | 1.4MB 11.7MB/s eta 0:00:01\r\u001b[K     |█████████████████████████████   | 1.4MB 11.7MB/s eta 0:00:01\r\u001b[K     |█████████████████████████████▎  | 1.4MB 11.7MB/s eta 0:00:01\r\u001b[K     |█████████████████████████████▌  | 1.4MB 11.7MB/s eta 0:00:01\r\u001b[K     |█████████████████████████████▊  | 1.4MB 11.7MB/s eta 0:00:01\r\u001b[K     |██████████████████████████████  | 1.4MB 11.7MB/s eta 0:00:01\r\u001b[K     |██████████████████████████████▏ | 1.4MB 11.7MB/s eta 0:00:01\r\u001b[K     |██████████████████████████████▍ | 1.4MB 11.7MB/s eta 0:00:01\r\u001b[K     |██████████████████████████████▋ | 1.5MB 11.7MB/s eta 0:00:01\r\u001b[K     |██████████████████████████████▉ | 1.5MB 11.7MB/s eta 0:00:01\r\u001b[K     |███████████████████████████████ | 1.5MB 11.7MB/s eta 0:00:01\r\u001b[K     |███████████████████████████████▎| 1.5MB 11.7MB/s eta 0:00:01\r\u001b[K     |███████████████████████████████▌| 1.5MB 11.7MB/s eta 0:00:01\r\u001b[K     |███████████████████████████████▊| 1.5MB 11.7MB/s eta 0:00:01\r\u001b[K     |███████████████████████████████▉| 1.5MB 11.7MB/s eta 0:00:01\r\u001b[K     |████████████████████████████████| 1.5MB 11.7MB/s \n",
            "\u001b[?25hInstalling collected packages: pip\n",
            "  Found existing installation: pip 19.3.1\n",
            "    Uninstalling pip-19.3.1:\n",
            "      Successfully uninstalled pip-19.3.1\n",
            "Successfully installed pip-20.3.3\n",
            "Collecting pytorch-lightning==0.6.0\n",
            "  Downloading pytorch-lightning-0.6.0.tar.gz (95 kB)\n",
            "\u001b[K     |████████████████████████████████| 95 kB 3.4 MB/s \n",
            "\u001b[?25hRequirement already satisfied: scikit-learn>=0.20.2 in /usr/local/lib/python3.6/dist-packages (from pytorch-lightning==0.6.0) (0.22.2.post1)\n",
            "Requirement already satisfied: tqdm>=4.35.0 in /usr/local/lib/python3.6/dist-packages (from pytorch-lightning==0.6.0) (4.41.1)\n",
            "Requirement already satisfied: numpy>=1.16.4 in /usr/local/lib/python3.6/dist-packages (from pytorch-lightning==0.6.0) (1.18.5)\n",
            "Requirement already satisfied: torch>=1.1 in /usr/local/lib/python3.6/dist-packages (from pytorch-lightning==0.6.0) (1.7.0+cu101)\n",
            "Requirement already satisfied: pandas>=0.24 in /usr/local/lib/python3.6/dist-packages (from pytorch-lightning==0.6.0) (1.1.5)\n",
            "Requirement already satisfied: tensorboard>=1.14 in /usr/local/lib/python3.6/dist-packages (from pytorch-lightning==0.6.0) (2.3.0)\n",
            "Collecting future>=0.17.1\n",
            "  Downloading future-0.18.2.tar.gz (829 kB)\n",
            "\u001b[K     |████████████████████████████████| 829 kB 18.3 MB/s \n",
            "\u001b[?25hRequirement already satisfied: python-dateutil>=2.7.3 in /usr/local/lib/python3.6/dist-packages (from pandas>=0.24->pytorch-lightning==0.6.0) (2.8.1)\n",
            "Requirement already satisfied: pytz>=2017.2 in /usr/local/lib/python3.6/dist-packages (from pandas>=0.24->pytorch-lightning==0.6.0) (2018.9)\n",
            "Requirement already satisfied: six>=1.5 in /usr/local/lib/python3.6/dist-packages (from python-dateutil>=2.7.3->pandas>=0.24->pytorch-lightning==0.6.0) (1.15.0)\n",
            "Requirement already satisfied: joblib>=0.11 in /usr/local/lib/python3.6/dist-packages (from scikit-learn>=0.20.2->pytorch-lightning==0.6.0) (0.17.0)\n",
            "Requirement already satisfied: scipy>=0.17.0 in /usr/local/lib/python3.6/dist-packages (from scikit-learn>=0.20.2->pytorch-lightning==0.6.0) (1.4.1)\n",
            "Requirement already satisfied: absl-py>=0.4 in /usr/local/lib/python3.6/dist-packages (from tensorboard>=1.14->pytorch-lightning==0.6.0) (0.10.0)\n",
            "Requirement already satisfied: google-auth<2,>=1.6.3 in /usr/local/lib/python3.6/dist-packages (from tensorboard>=1.14->pytorch-lightning==0.6.0) (1.17.2)\n",
            "Requirement already satisfied: tensorboard-plugin-wit>=1.6.0 in /usr/local/lib/python3.6/dist-packages (from tensorboard>=1.14->pytorch-lightning==0.6.0) (1.7.0)\n",
            "Requirement already satisfied: wheel>=0.26 in /usr/local/lib/python3.6/dist-packages (from tensorboard>=1.14->pytorch-lightning==0.6.0) (0.36.1)\n",
            "Requirement already satisfied: werkzeug>=0.11.15 in /usr/local/lib/python3.6/dist-packages (from tensorboard>=1.14->pytorch-lightning==0.6.0) (1.0.1)\n",
            "Requirement already satisfied: markdown>=2.6.8 in /usr/local/lib/python3.6/dist-packages (from tensorboard>=1.14->pytorch-lightning==0.6.0) (3.3.3)\n",
            "Requirement already satisfied: google-auth-oauthlib<0.5,>=0.4.1 in /usr/local/lib/python3.6/dist-packages (from tensorboard>=1.14->pytorch-lightning==0.6.0) (0.4.2)\n",
            "Requirement already satisfied: setuptools>=41.0.0 in /usr/local/lib/python3.6/dist-packages (from tensorboard>=1.14->pytorch-lightning==0.6.0) (50.3.2)\n",
            "Requirement already satisfied: grpcio>=1.24.3 in /usr/local/lib/python3.6/dist-packages (from tensorboard>=1.14->pytorch-lightning==0.6.0) (1.34.0)\n",
            "Requirement already satisfied: protobuf>=3.6.0 in /usr/local/lib/python3.6/dist-packages (from tensorboard>=1.14->pytorch-lightning==0.6.0) (3.12.4)\n",
            "Requirement already satisfied: requests<3,>=2.21.0 in /usr/local/lib/python3.6/dist-packages (from tensorboard>=1.14->pytorch-lightning==0.6.0) (2.23.0)\n",
            "Requirement already satisfied: pyasn1-modules>=0.2.1 in /usr/local/lib/python3.6/dist-packages (from google-auth<2,>=1.6.3->tensorboard>=1.14->pytorch-lightning==0.6.0) (0.2.8)\n",
            "Requirement already satisfied: cachetools<5.0,>=2.0.0 in /usr/local/lib/python3.6/dist-packages (from google-auth<2,>=1.6.3->tensorboard>=1.14->pytorch-lightning==0.6.0) (4.1.1)\n",
            "Requirement already satisfied: rsa<5,>=3.1.4 in /usr/local/lib/python3.6/dist-packages (from google-auth<2,>=1.6.3->tensorboard>=1.14->pytorch-lightning==0.6.0) (4.6)\n",
            "Requirement already satisfied: requests-oauthlib>=0.7.0 in /usr/local/lib/python3.6/dist-packages (from google-auth-oauthlib<0.5,>=0.4.1->tensorboard>=1.14->pytorch-lightning==0.6.0) (1.3.0)\n",
            "Requirement already satisfied: importlib-metadata in /usr/local/lib/python3.6/dist-packages (from markdown>=2.6.8->tensorboard>=1.14->pytorch-lightning==0.6.0) (3.1.1)\n",
            "Requirement already satisfied: pyasn1<0.5.0,>=0.4.6 in /usr/local/lib/python3.6/dist-packages (from pyasn1-modules>=0.2.1->google-auth<2,>=1.6.3->tensorboard>=1.14->pytorch-lightning==0.6.0) (0.4.8)\n",
            "Requirement already satisfied: certifi>=2017.4.17 in /usr/local/lib/python3.6/dist-packages (from requests<3,>=2.21.0->tensorboard>=1.14->pytorch-lightning==0.6.0) (2020.12.5)\n",
            "Requirement already satisfied: chardet<4,>=3.0.2 in /usr/local/lib/python3.6/dist-packages (from requests<3,>=2.21.0->tensorboard>=1.14->pytorch-lightning==0.6.0) (3.0.4)\n",
            "Requirement already satisfied: idna<3,>=2.5 in /usr/local/lib/python3.6/dist-packages (from requests<3,>=2.21.0->tensorboard>=1.14->pytorch-lightning==0.6.0) (2.10)\n",
            "Requirement already satisfied: urllib3!=1.25.0,!=1.25.1,<1.26,>=1.21.1 in /usr/local/lib/python3.6/dist-packages (from requests<3,>=2.21.0->tensorboard>=1.14->pytorch-lightning==0.6.0) (1.24.3)\n",
            "Requirement already satisfied: oauthlib>=3.0.0 in /usr/local/lib/python3.6/dist-packages (from requests-oauthlib>=0.7.0->google-auth-oauthlib<0.5,>=0.4.1->tensorboard>=1.14->pytorch-lightning==0.6.0) (3.1.0)\n",
            "Requirement already satisfied: dataclasses in /usr/local/lib/python3.6/dist-packages (from torch>=1.1->pytorch-lightning==0.6.0) (0.8)\n",
            "Requirement already satisfied: typing-extensions in /usr/local/lib/python3.6/dist-packages (from torch>=1.1->pytorch-lightning==0.6.0) (3.7.4.3)\n",
            "Collecting torchvision<0.5,>=0.4.0\n",
            "  Downloading torchvision-0.4.2-cp36-cp36m-manylinux1_x86_64.whl (10.2 MB)\n",
            "\u001b[K     |████████████████████████████████| 10.2 MB 17.1 MB/s \n",
            "\u001b[?25hRequirement already satisfied: pillow>=4.1.1 in /usr/local/lib/python3.6/dist-packages (from torchvision<0.5,>=0.4.0->pytorch-lightning==0.6.0) (7.0.0)\n",
            "Collecting torch>=1.1\n",
            "  Downloading torch-1.3.1-cp36-cp36m-manylinux1_x86_64.whl (734.6 MB)\n",
            "\u001b[K     |████████                        | 183.2 MB 1.6 MB/s eta 0:05:44"
          ],
          "name": "stdout"
        }
      ]
    },
    {
      "cell_type": "markdown",
      "metadata": {
        "id": "LfMTfSfmzQLK"
      },
      "source": [
        "# インポート\n",
        "- numpy\n",
        "- pandas"
      ]
    },
    {
      "cell_type": "code",
      "metadata": {
        "id": "e3q5ngE4RZZV"
      },
      "source": [
        "\n",
        "%matplotlib inline\n",
        "import numpy as np\n",
        "import pandas as pd\n",
        "import matplotlib.pyplot as plt\n",
        "\n",
        "\n",
        "from torch.utils.tensorboard import SummaryWriter\n",
        "writer = SummaryWriter()"
      ],
      "execution_count": null,
      "outputs": []
    },
    {
      "cell_type": "markdown",
      "metadata": {
        "id": "5dGpvZOoznnZ"
      },
      "source": [
        "# データロード"
      ]
    },
    {
      "cell_type": "code",
      "metadata": {
        "id": "uL-a8C6CSdPp"
      },
      "source": [
        "import pandas as pd\n",
        "import datetime\n",
        "import numpy as np\n",
        "\n",
        "df = pd.read_csv(\"drive/MyDrive/glu_analysis/glu.csv\")\n",
        "\n",
        "def convert_date(tstr):\n",
        "  #tstr = '2020-11-28T06:02:08'\n",
        "  tdatetime = datetime.datetime.strptime(tstr, '%Y-%m-%dT%H:%M:%S')\n",
        "  delta = datetime.timedelta(hours=9)\n",
        "  tdatetime.strftime('%H:%M:%S')\n",
        "  tdatetime = tdatetime + delta\n",
        "  return tdatetime.strftime('%Y-%m-%d')\n",
        "\n",
        "def convert_time(tstr):\n",
        "  #tstr = '2020-11-28T06:02:08'\n",
        "  tdatetime = datetime.datetime.strptime(tstr, '%Y-%m-%dT%H:%M:%S')\n",
        "  delta = datetime.timedelta(hours=9)\n",
        "  tdatetime.strftime('%H:%M:%S')\n",
        "  tdatetime = tdatetime + delta\n",
        "  return tdatetime.strftime('%H:%M')\n",
        "\n",
        "def convert_timeindex(tstr):\n",
        "  #tstr = '2020-11-28T06:02:08'\n",
        "  tdatetime = datetime.datetime.strptime(tstr, '%Y-%m-%dT%H:%M:%S')\n",
        "  delta = datetime.timedelta(hours=9)\n",
        "  tdatetime.strftime('%H:%M:%S')\n",
        "  tdatetime = tdatetime + delta\n",
        "  index = int(tdatetime.strftime('%H'))*60+int(tdatetime.strftime('%M')) \n",
        "  #24時間を５分毎に分けた領域のインデックス\n",
        "  return int(index)\n",
        "  \n",
        "#convert_timeindex(\"\")\n",
        "\n",
        "\n",
        "def convert_df(df):\n",
        "  expand_df = df.sysTime.str.split('.', expand=True)\n",
        "  expand_df.columns = ['date', 'time']\n",
        "  df_concat = pd.concat([df, expand_df])\n",
        "  df_concat.date = expand_df.date.map(convert_date)\n",
        "  df_concat.time = expand_df.date.map(convert_timeindex)\n",
        "  return df_concat\n",
        "\n",
        "df = convert_df(df)\n",
        "df.query('sgv < 150')[['date','time','sgv']].head()"
      ],
      "execution_count": null,
      "outputs": []
    },
    {
      "cell_type": "code",
      "metadata": {
        "id": "wWGpYccIUeji"
      },
      "source": [
        "# 教師データの作成\n",
        "x, t = [], []\n",
        "sgv = df.sgv.dropna()\n",
        "print(sgv)\n",
        "\n",
        "for i in range(len(sgv)-1):\n",
        "    x.append(sgv[i])\n",
        "    t.append(sgv[i+1])\n",
        "\n",
        "print(x)\n",
        "print(t)"
      ],
      "execution_count": null,
      "outputs": []
    },
    {
      "cell_type": "code",
      "metadata": {
        "id": "B6GHxDHjS6Yh"
      },
      "source": [
        "import torch\n",
        "# PyTorch で学習に使用できる形式へ変換\n",
        "x = torch.tensor(x, dtype=torch.float32)\n",
        "t = torch.tensor(t, dtype=torch.int64)"
      ],
      "execution_count": null,
      "outputs": []
    },
    {
      "cell_type": "code",
      "metadata": {
        "id": "Qvj3LtiWVauq"
      },
      "source": [
        "# 各データに配分するサンプル数を計算\n",
        "n_train = int(len(x) * 0.6)\n",
        "n_val = int(len(x) * 0.2)\n",
        "\n",
        "x_train, t_train = x[0: n_train], t[0: n_train]\n",
        "x_val, t_val = x[n_train: n_train+n_val], t[n_train: n_train+n_val]\n",
        "x_test, t_test = x[n_train+n_val:], t[n_train+n_val:]"
      ],
      "execution_count": null,
      "outputs": []
    },
    {
      "cell_type": "code",
      "metadata": {
        "id": "w_E8e3c_VcW-"
      },
      "source": [
        "# ひとつのオブジェクトにまとめる\n",
        "train = torch.utils.data.TensorDataset(x_train, t_train)\n",
        "val = torch.utils.data.TensorDataset(x_val, t_val)\n",
        "test = torch.utils.data.TensorDataset(x_test, t_test)"
      ],
      "execution_count": null,
      "outputs": []
    },
    {
      "cell_type": "code",
      "metadata": {
        "id": "PP1Bz5nE3w7p"
      },
      "source": [
        "type(train), type(val), type(test)"
      ],
      "execution_count": null,
      "outputs": []
    },
    {
      "cell_type": "code",
      "metadata": {
        "id": "_GcaLpcYVgc5"
      },
      "source": [
        "len(train), len(val), len(test)"
      ],
      "execution_count": null,
      "outputs": []
    },
    {
      "cell_type": "markdown",
      "metadata": {
        "id": "-JeF95YCzgAS"
      },
      "source": [
        "# ネットワークの作成\n",
        "- torch.nn\n",
        "- torch.nn.functional\n",
        "- pytorch_lightning\n",
        "- trainer"
      ]
    },
    {
      "cell_type": "code",
      "metadata": {
        "id": "JfMUnZu9Q6Cs"
      },
      "source": [
        "from pytorch_lightning import Trainer\n",
        "\n",
        "# 学習データの処理\n",
        "class TrainNet(pl.LightningModule):\n",
        "\n",
        "    @pl.data_loader\n",
        "    def train_dataloader(self):\n",
        "        return torch.utils.data.DataLoader(train, self.batch_size, num_workers=self.num_workers)\n",
        "\n",
        "    def training_step(self, batch, batch_nb):\n",
        "        x, t = batch\n",
        "        y = self.forward(x)\n",
        "        loss = self.lossfun(y, t)\n",
        "        tensorboard_logs = {'train_loss': loss}\n",
        "        results = {'loss': loss, 'log':tensorboard_logs}\n",
        "        return results\n",
        "\n",
        "# 学習データの処理\n",
        "class ValidationNet(pl.LightningModule):\n",
        "\n",
        "    @pl.data_loader\n",
        "    def val_dataloader(self):\n",
        "        return torch.utils.data.DataLoader(val, self.batch_size)\n",
        "\n",
        "    def validation_step(self, batch, batch_nb):\n",
        "        x, t = batch\n",
        "        y = self.forward(x)\n",
        "        loss = self.lossfun(y, t)\n",
        "        results = {'val_loss': loss}\n",
        "        return results\n",
        "\n",
        "    def validation_end(self, outputs):\n",
        "        avg_loss = torch.stack([x['val_loss'] for x in outputs]).mean()\n",
        "        tensorboard_logs = {'test_loss': avg_loss}\n",
        "        results = {'val_loss': avg_loss, 'log':tensorboard_logs}\n",
        "        return results\n",
        "\n",
        "# テストデータの処理\n",
        "class TestNet(pl.LightningModule):\n",
        "\n",
        "    @pl.data_loader\n",
        "    def test_dataloader(self):\n",
        "        return torch.utils.data.DataLoader(test, self.batch_size)\n",
        "\n",
        "    def test_step(self, batch, batch_nb):\n",
        "        x, t = batch\n",
        "        y = self.forward(x)\n",
        "        loss = self.lossfun(y, t)\n",
        "        results = {'test_loss': loss}\n",
        "        return results\n",
        "\n",
        "    def test_end(self, outputs):\n",
        "        avg_loss = torch.stack([x['test_loss'] for x in outputs]).mean()\n",
        "        tensorboard_logs = {'test_loss': avg_loss}\n",
        "        results = {'test_loss': avg_loss, 'log':tensorboard_logs}\n",
        "        return results"
      ],
      "execution_count": null,
      "outputs": []
    },
    {
      "cell_type": "code",
      "metadata": {
        "id": "tZJP5X-X2PPr"
      },
      "source": [
        "# 学習データ、検証データ、テストデータへの処理を継承したクラス\n",
        "'''\n",
        "class Net(TrainNet, ValidationNet, TestNet):\n",
        "\n",
        "    def __init__(self, input_size=1, hidden_size=10, output_size=1, batch_size=32, num_workers=1):\n",
        "        super(Net, self).__init__()\n",
        "        self.lstm = nn.LSTM(input_size, hidden_size, batch_first=True)\n",
        "        self.linear = nn.Linear(hidden_size, output_size)\n",
        "        self.batch_size = batch_size\n",
        "        self.num_workers = num_workers\n",
        "\n",
        "    def forward(self, x):\n",
        "        x = self.fc1(x)\n",
        "        x = F.relu(x)\n",
        "        x = self.fc2(x)\n",
        "        return x\n",
        "\n",
        "    def lossfun(self, y, t):\n",
        "        return F.mse_loss(y.float(), t.float())\n",
        "\n",
        "    def configure_optimizers(self):\n",
        "        return torch.optim.Adam(self.parameters(), lr=0.01)\n",
        "        '''"
      ],
      "execution_count": null,
      "outputs": []
    },
    {
      "cell_type": "code",
      "metadata": {
        "id": "d5ygHWKL1vfy"
      },
      "source": [
        "# LSTM モデルの作成\n",
        "class LSTM(TrainNet, ValidationNet, TestNet):\n",
        "\n",
        "    def __init__(self, input_size=1, hidden_size=10, output_size=1, batch_size=32, num_workers=1):\n",
        "        super().__init__()\n",
        "        self.lstm = nn.LSTM(input_size, hidden_size, batch_first=True)\n",
        "        self.linear = nn.Linear(hidden_size, output_size)\n",
        "        self.batch_size = batch_size\n",
        "        self.num_workers = num_workers\n",
        "\n",
        "    def forward(self, x):\n",
        "        x = x.view(x.size(0), 1, 1)\n",
        "        x, (h, c) = self.lstm(x)\n",
        "        x = self.linear(x.view(x.size(0), -1))\n",
        "        return x\n",
        "\n",
        "    def lossfun(self, y, t):\n",
        "        return F.mse_loss(y.float(), t.float())\n",
        "\n",
        "    def configure_optimizers(self):\n",
        "        return torch.optim.Adam(self.parameters(), lr=0.01)"
      ],
      "execution_count": null,
      "outputs": []
    },
    {
      "cell_type": "markdown",
      "metadata": {
        "id": "D5Djhit0Cjpi"
      },
      "source": [
        "# 学習"
      ]
    },
    {
      "cell_type": "markdown",
      "metadata": {
        "id": "YRoiIsZ9DTJz"
      },
      "source": [
        "## 再現性を保つためにシードを固定"
      ]
    },
    {
      "cell_type": "code",
      "metadata": {
        "id": "UEQHvJekDXeA"
      },
      "source": [
        "# 再現性の確保\n",
        "torch.manual_seed(0)"
      ],
      "execution_count": null,
      "outputs": []
    },
    {
      "cell_type": "markdown",
      "metadata": {
        "id": "M1OtgiNcDaex"
      },
      "source": [
        "## 予測モデルのインスタンス化\n",
        "- インスタンス化\n",
        "- チェックポイントの設定\n",
        "- Trainerのcallback設定"
      ]
    },
    {
      "cell_type": "code",
      "metadata": {
        "id": "eLXBbHb3Vm-z"
      },
      "source": [
        "net = LSTM()\n",
        "\n",
        "from pytorch_lightning.callbacks import ModelCheckpoint\n",
        "\n",
        "checkpoint_callback = ModelCheckpoint(\n",
        "    filepath='drive/MyDrive/glu_analysis/weights.ckpt',\n",
        "    verbose=True,\n",
        "    monitor='val_loss',\n",
        "    mode='min'\n",
        ")\n",
        "\n",
        "trainer = Trainer(checkpoint_callback=checkpoint_callback, min_epochs=1000)\n",
        "\n",
        "# 学習の実行\n",
        "trainer.fit(net)"
      ],
      "execution_count": null,
      "outputs": []
    },
    {
      "cell_type": "code",
      "metadata": {
        "id": "Ke4riPDZvnac"
      },
      "source": [
        ""
      ],
      "execution_count": null,
      "outputs": []
    },
    {
      "cell_type": "markdown",
      "metadata": {
        "id": "ogYV4j63D4Rb"
      },
      "source": [
        "# 検証"
      ]
    },
    {
      "cell_type": "code",
      "metadata": {
        "id": "aWUwzA6q8Qb3"
      },
      "source": [
        "# テストデータに対する検証\n",
        "trainer.test()\n",
        "\n",
        "# テストデータに対する結果\n",
        "trainer.callback_metrics\n",
        "\n"
      ],
      "execution_count": null,
      "outputs": []
    },
    {
      "cell_type": "code",
      "metadata": {
        "id": "i4TzcBtxA3Ts"
      },
      "source": [
        "#%load_ext tensorboard\n",
        "#%tensorboard --logdir ./lightning_logs/version_11//\n",
        "\n",
        "# Writer will output to ./runs/ directory by default\n",
        "%tensorboard --logdir ./runs/"
      ],
      "execution_count": null,
      "outputs": []
    },
    {
      "cell_type": "markdown",
      "metadata": {
        "id": "n6y9984lCrz-"
      },
      "source": [
        "# 推論\n"
      ]
    },
    {
      "cell_type": "markdown",
      "metadata": {
        "id": "orq_UREfDKny"
      },
      "source": [
        "\n",
        "## 推論の準備\n",
        "- チェックポイントからロード"
      ]
    },
    {
      "cell_type": "code",
      "metadata": {
        "id": "VqKGTvQxqmuR"
      },
      "source": [
        "checkpoint = torch.load('drive/MyDrive/glu_analysis/weights.ckpt/_ckpt_epoch_219.ckpt')\n",
        " "
      ],
      "execution_count": null,
      "outputs": []
    },
    {
      "cell_type": "code",
      "metadata": {
        "id": "c23-Adg_BCTU"
      },
      "source": [
        "# インスタンス生成（データセット不要）\n",
        "model = LSTM()\n",
        "model.load_state_dict(checkpoint['state_dict'])"
      ],
      "execution_count": null,
      "outputs": []
    },
    {
      "cell_type": "markdown",
      "metadata": {
        "id": "NJBlZZtlSnFz"
      },
      "source": [
        "## 推論\n",
        "- テストデータをモデルに食べさせる"
      ]
    },
    {
      "cell_type": "code",
      "metadata": {
        "id": "k91KhaKhWcp3"
      },
      "source": [
        "# 推論モード\n",
        "model.eval()\n",
        "model.freeze()"
      ],
      "execution_count": null,
      "outputs": []
    },
    {
      "cell_type": "code",
      "metadata": {
        "id": "iiJTxGp3WgKV"
      },
      "source": [
        "outputs = model(x_test)"
      ],
      "execution_count": null,
      "outputs": []
    },
    {
      "cell_type": "code",
      "metadata": {
        "id": "RaJxYSejWpfH"
      },
      "source": [
        "fig, ax = plt.subplots()\n",
        "\n",
        "xaxis = range(len(outputs))\n",
        "\n",
        "ax.plot(xaxis, outputs)\n",
        "ax.plot(xaxis, t_test)\n",
        "\n",
        "ax.set_yticklabels([\"\"])\n",
        "plt.show()"
      ],
      "execution_count": null,
      "outputs": []
    },
    {
      "cell_type": "code",
      "metadata": {
        "id": "vq07yQhPW6Jc"
      },
      "source": [
        ""
      ],
      "execution_count": null,
      "outputs": []
    },
    {
      "cell_type": "code",
      "metadata": {
        "id": "dDNuOvMHXA-s"
      },
      "source": [
        ""
      ],
      "execution_count": null,
      "outputs": []
    },
    {
      "cell_type": "code",
      "metadata": {
        "id": "TQv8yPVTXQLF"
      },
      "source": [
        "\n"
      ],
      "execution_count": null,
      "outputs": []
    }
  ]
}